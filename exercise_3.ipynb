{
 "cells": [
  {
   "cell_type": "markdown",
   "metadata": {},
   "source": [
    "##### Exercise 3: Advanced Python Challenges  \n",
    "\n",
    "1. Define a function `calculate_statistics` that takes a list of numbers and returns a dictionary containing:  \n",
    "   a. The mean of the numbers.  \n",
    "   b. The median of the numbers.  \n",
    "   c. The mode of the numbers.  \n",
    "   Use the `statistics` module for these calculations."
   ]
  },
  {
   "cell_type": "code",
   "execution_count": null,
   "metadata": {},
   "outputs": [],
   "source": [
    "import statistics\n",
    "def calculate_statistics(num):\n",
    "    # a)\n",
    "    mean_num = statistics.mean(num)\n",
    "    # b)\n",
    "    median_num = statistics.median(num)\n",
    "    # c)\n",
    "    mode_num = statistics.mode(num)\n",
    "    #return mode_num\n",
    "\n",
    "    statistic_dict = {\n",
    "        \"mean\": mean_num,\n",
    "        \"median\": median_num,\n",
    "        \"mode\": mode_num\n",
    "    }\n",
    "    return statistic_dict\n",
    "\n",
    "list_of_numbers = [10, 20, 30, 30, 35, 40, 50, 60]\n",
    "\n",
    "print(calculate_statistics(list_of_numbers))\n"
   ]
  },
  {
   "cell_type": "markdown",
   "metadata": {},
   "source": [
    "##### 2. Create a class `Rectangle` that has attributes for `width` and `height`.  \n",
    "    a. Define a method to calculate the area of the rectangle.  \n",
    "    b. Define a method to calculate the perimeter of the rectangle.  \n",
    "    c. Instantiate two rectangles and compare their areas.\n"
   ]
  },
  {
   "cell_type": "code",
   "execution_count": null,
   "metadata": {},
   "outputs": [],
   "source": [
    "class Rectangle:\n",
    "    def __init__(self, width, height):\n",
    "        self.width = width\n",
    "        self.height = height\n",
    "    # a)\n",
    "    def areaRectangle(self):\n",
    "        area_rect = self.width * self.height\n",
    "        return area_rect\n",
    "    # b)\n",
    "    def perimeterRectangle(self):\n",
    "        perimeter_rect = 2*self.width + 2*self.height\n",
    "        return perimeter_rect\n",
    "\n",
    "R1 = Rectangle(25, 10)\n",
    "R2 = Rectangle(15, 5)\n",
    "a_R1 = R1.areaRectangle()\n",
    "\n",
    "print(f\"area R1: {a_R1}\")\n",
    "\n",
    "p_R1 = R1.perimeterRectangle()\n",
    "\n",
    "print(f\"Perimeter R1: {p_R1}\")\n",
    "\n",
    "a_R2 = R2.areaRectangle()\n",
    "\n",
    "print(f\"area R2: {a_R2}\")\n",
    "\n",
    "p_R2 = R2.perimeterRectangle()  \n",
    "\n",
    "print(f\"Perimeter R2: {p_R2}\")\n",
    "\n",
    "# c)\n",
    "if a_R1 > a_R2:\n",
    "    print(f\"Area of R1 is greater than R2 {a_R1} > {a_R2}\")\n",
    "else:\n",
    "    print(f\"Area of R2 is greater than R1 {a_R2} > {a_R1}\")"
   ]
  },
  {
   "cell_type": "markdown",
   "metadata": {},
   "source": [
    "##### 3. Define a function `is_prime` that takes an integer and returns `True` if the number is prime, and `False` otherwise.\n",
    "  a. Use this function to filter a list of numbers (from 1 to 100) and return only the prime numbers."
   ]
  },
  {
   "cell_type": "code",
   "execution_count": null,
   "metadata": {},
   "outputs": [],
   "source": [
    "def is_prime(n):\n",
    "    if n <= 1:\n",
    "        return False\n",
    "\n",
    "    # range(start, stop, next) \n",
    "    #  start 2 , 3\n",
    "    # stop = int(n **0.5)+1\n",
    "    for i in range(2, int(n **0.5)+1):\n",
    "        if n % i == 0:\n",
    "            return False # break; breaks the loop\n",
    "    return True\n",
    "\"\"\"\n",
    "6\n",
    "\n",
    "\"\"\"\n",
    "\n",
    "    # count = 0\n",
    "    # result = []\n",
    "    # for x in prime_num:\n",
    "    #     for i in range(1, x + 1, 1):\n",
    "    #         if x % i == 0:\n",
    "    #             count = count + 1\n",
    "    #         if count == 2:\n",
    "    #             result.append(x)\n",
    "    # return result\n",
    "\n",
    "\n",
    "        #if x % 2 :\n",
    "           # return\n",
    "    \n",
    "\n",
    "\n",
    "list_of_1_to_100 = []\n",
    "for i in range(1, 101):\n",
    "    list_of_1_to_100.append(i)\n",
    "\n",
    "#print(list_of_1_to_100)\n",
    "print(is_prime(9))"
   ]
  },
  {
   "cell_type": "markdown",
   "metadata": {},
   "source": [
    "##### 4. Define a function `merge_dictionaries` that accepts two dictionaries and merges them.\n",
    "   a. If both dictionaries have the same key, sum the values of that key.  \n",
    "   b. Otherwise, combine the keys and values into the resulting dictionary."
   ]
  },
  {
   "cell_type": "code",
   "execution_count": null,
   "metadata": {},
   "outputs": [],
   "source": [
    "\n",
    "def merge_dictionaries(dict1, dict2):\n",
    "    merged = dict1.copy()\n",
    "\n",
    "    for key in dict2:\n",
    "        if key in merged:\n",
    "            merged.update({key:merged[key] + dict2[key]})\n",
    "\n",
    "        else:\n",
    "            merged.update({key: dict2[key]})\n",
    "    \n",
    "    return merged\n",
    "\n",
    "\n",
    "first_dict_ch4 = {\n",
    "            \"first\": 10,\n",
    "            \"second\": 20,\n",
    "            \"third\": 30,\n",
    "            \"year\": 2024\n",
    "}\n",
    "second_dict_ch4 = {\n",
    "        \"first\": 10,\n",
    "        \"second\": 20,\n",
    "        \"city\": \"Berlin\",\n",
    "        \"country\": \"Germany\"\n",
    "}\n",
    "\n",
    "print(merge_dictionaries(first_dict_ch4, second_dict_ch4))\n"
   ]
  },
  {
   "cell_type": "markdown",
   "metadata": {},
   "source": [
    "##### 5. Create a generator function `fibonacci` that yields an infinite sequence of Fibonacci numbers.  \n",
    "    a. Use a `for` loop to print the first 20 Fibonacci numbers."
   ]
  },
  {
   "cell_type": "code",
   "execution_count": null,
   "metadata": {},
   "outputs": [],
   "source": [
    "def fibonacci(n):\n",
    "    \n",
    "    if n in {0, 1}:\n",
    "        return n\n",
    "    return fibonacci(n-1) + fibonacci(n-2)\n",
    "    \n",
    "\n",
    "[fibonacci(n) for n in range(20)]"
   ]
  },
  {
   "cell_type": "code",
   "execution_count": null,
   "metadata": {},
   "outputs": [],
   "source": [
    "n1, n2 = 0, 1\n",
    "count = 0\n",
    "nterm = 10\n",
    "\n",
    "while count < nterm:\n",
    "    print(n1) \n",
    "    nth = n1 + n2 \n",
    "    n1 = n2 \n",
    "    n2 = nth \n",
    "    count += 1 \n"
   ]
  },
  {
   "cell_type": "markdown",
   "metadata": {},
   "source": [
    "##### 6. Define a function `matrix_transpose` that takes a 2D list (matrix) and returns its transpose.\n",
    "    a. The function should work for any matrix size."
   ]
  },
  {
   "cell_type": "code",
   "execution_count": null,
   "metadata": {},
   "outputs": [],
   "source": [
    "def matrix_transpose(tr_m):\n",
    "    mtr_result = []\n",
    "    tr_matrix = zip(*tr_m)\n",
    "    for row in tr_matrix:\n",
    "        mtr_result.append(row)\n",
    "    return mtr_result\n",
    "    \n",
    "\n",
    "\n",
    "\n",
    "\n",
    "matrix = [[1, 2, 3], [4, 5, 6], [7, 8, 9]]\n",
    "\n",
    "display(matrix_transpose(matrix))\n"
   ]
  },
  {
   "cell_type": "markdown",
   "metadata": {},
   "source": [
    "##### 7. Write a function `analyze_text` that takes a string and returns:\n",
    "    a. The number of words in the string.\n",
    "    b. The number of unique words.\n",
    "    c. A dictionary of word frequencies.\n",
    "    d. The longest word in the string."
   ]
  },
  {
   "cell_type": "code",
   "execution_count": 1,
   "metadata": {},
   "outputs": [
    {
     "name": "stdout",
     "output_type": "stream",
     "text": [
      "number Of words: 10  \n",
      " number Of unique words: 8\n",
      " Counter({'a': 2, 'developer': 2, 'I': 1, 'am': 1, 'student': 1, 'of': 1, 'Full': 1, 'stack': 1})\n",
      " developer\n"
     ]
    }
   ],
   "source": [
    "from collections import Counter \n",
    "\n",
    "def analyze_text(text_ana):\n",
    "    list_of_word = text_ana.split()\n",
    "    num_words = len(list_of_word)\n",
    "\n",
    "    num_unique_words = len(set(list_of_word))\n",
    "    count_words = Counter(list_of_word)\n",
    "\n",
    "    max_len = -1\n",
    "\n",
    "    for element in list_of_word:\n",
    "        if len(element) > max_len:\n",
    "            max_len = len(element)\n",
    "            max_re = element\n",
    "   \n",
    "    return f\"number Of words: {num_words}  \\n number Of unique words: {num_unique_words}\\n {count_words}\\n {max_re}\"\n",
    "\n",
    "my_string = \"I am a developer student of a Full stack developer\"\n",
    "\n",
    "print(analyze_text(my_string))\n",
    "\n",
    "#input list\n",
    "#list1 = ['apple', 'banana', 'atermelon', 'orange'] \n",
    "#res = max(list1, key=len) \n",
    "#print(\"Longest String is  : \", res)\n"
   ]
  },
  {
   "cell_type": "markdown",
   "metadata": {},
   "source": [
    "##### 8. Define a function `group_by_length` that takes a list of strings and returns a dictionary where:\n",
    "    a. The keys are string lengths.\n",
    "    b. The values are lists of strings with that length."
   ]
  },
  {
   "cell_type": "code",
   "execution_count": null,
   "metadata": {},
   "outputs": [
    {
     "data": {
      "text/plain": [
       "({'8': ['b',\n",
       "   ' ',\n",
       "   'a',\n",
       "   ' ',\n",
       "   'n',\n",
       "   ' ',\n",
       "   'a',\n",
       "   ' ',\n",
       "   'n',\n",
       "   ' ',\n",
       "   'a',\n",
       "   ' ',\n",
       "   '0',\n",
       "   ' ',\n",
       "   '1'],\n",
       "  '7': ['a', ' ', 'p', ' ', 'p', ' ', 'l', ' ', 'e', ' ', '0', ' ', '1'],\n",
       "  '4': ['k', ' ', 'e', ' ', 'h', ' ', 'a'],\n",
       "  '6': ['o', ' ', 'r', ' ', 'a', ' ', 'n', ' ', 'g', ' ', 'e'],\n",
       "  '5': ['l', ' ', 'e', ' ', 'm', ' ', 'o', ' ', 'n']},\n",
       " [])"
      ]
     },
     "metadata": {},
     "output_type": "display_data"
    },
    {
     "name": "stdout",
     "output_type": "stream",
     "text": [
      "----------------------------------------------------------------------------\n"
     ]
    },
    {
     "data": {
      "text/plain": [
       "['i', 'am', 'strong', 'i', 'and', 'you', 'are', 'strong', 'to']"
      ]
     },
     "metadata": {},
     "output_type": "display_data"
    },
    {
     "data": {
      "text/plain": [
       "[1, 2, 6, 1, 3, 3, 3, 6, 2]"
      ]
     },
     "metadata": {},
     "output_type": "display_data"
    },
    {
     "data": {
      "text/plain": [
       "{1, 2, 3, 6}"
      ]
     },
     "metadata": {},
     "output_type": "display_data"
    },
    {
     "data": {
      "text/plain": [
       "{1: 'i', 2: 'to', 6: 'strong', 3: 'are'}"
      ]
     },
     "metadata": {},
     "output_type": "display_data"
    },
    {
     "data": {
      "text/plain": [
       "{'1': ['i', 'i'],\n",
       " '2': ['am', 'to'],\n",
       " '3': ['and', 'you', 'are'],\n",
       " '6': ['strong', 'strong']}"
      ]
     },
     "metadata": {},
     "output_type": "display_data"
    }
   ],
   "source": [
    "def group_by_length(list_str):\n",
    "    dict_str = {}\n",
    "    len_of_words = [len(words) for words in list_str]\n",
    "    #return len_of_words\n",
    "    unique_len = set(len_of_words)\n",
    "    list_row = []\n",
    "    for row in list_str:\n",
    "        for len_word in unique_len:\n",
    "            if len(row) == len_word:\n",
    "                dict_str.update({str((len_word)): list(\" \".join(row))})\n",
    "    return dict_str, list_row\n",
    "\n",
    "string_list = [\"banana01\", \"apple01\", \"kiwi\", \"orange\", \"lemon\", \"keha\"]\n",
    "\n",
    "display(group_by_length(string_list))\n",
    "\n",
    "print(\"----------------------------------------------------------------------------\")\n",
    "words = [\"i\", \"am\", \"strong\", \"i\", \"and\", \"you\", \"are\", \"strong\", \"to\"]\n",
    "length_of_words = [ len(word) for word in words]\n",
    "words_len = set(length_of_words) # we can use it as temp var\n",
    "word_len_map =  { len(word): word for word in words} # we dont actually need that\n",
    "word_len_groups  = {  str(word_len): [ word for word in words if len(word) == word_len] for word_len in words_len}\n",
    " \n",
    " \n",
    "\n",
    "# word_len_dict = {\"1\":[\"i\", \"i\"], \"2\":[\"am\", \"to\"], \"3\":[\"and\", \"you\", \"are\",], \"6\":[\"strong\", \"strong\"]}\n",
    "display(words)\n",
    "display(length_of_words)\n",
    "display(words_len)\n",
    "display(word_len_map)\n",
    "display(word_len_groups)\n",
    "\n",
    "word_len_groups  = {  str(word_len): [ word for word in words if len(word) == word_len] for word_len in set(length_of_words) }\n",
    "# refactor"
   ]
  },
  {
   "cell_type": "markdown",
   "metadata": {},
   "source": [
    "##### 9. Define a recursive function `factorial` that calculates the factorial of a given number.\n",
    "    a. Use it to calculate the factorial of numbers from 1 to 10."
   ]
  },
  {
   "cell_type": "code",
   "execution_count": null,
   "metadata": {},
   "outputs": [],
   "source": [
    "\n",
    "def factorial():\n",
    "    fact = 1\n",
    "    for i in range(1, 10):\n",
    "        fact *= i \n",
    "        print(fact)\n",
    "\n",
    "factorial()"
   ]
  },
  {
   "cell_type": "markdown",
   "metadata": {},
   "source": [
    "##### 10. Define a function `flatten_list` that takes a nested list and returns a flat list.\n",
    "     a. Use recursion to handle arbitrarily nested lists.\n",
    "     Example: flatten_list([1, [2, [3, 4], 5]]) -> [1, 2, 3, 4, 5]"
   ]
  },
  {
   "cell_type": "code",
   "execution_count": null,
   "metadata": {},
   "outputs": [],
   "source": [
    "def flatten_list(list_arrey):\n",
    "    \n",
    "    if isinstance(list_arrey, list):\n",
    "        flatten_re = []\n",
    "        for row in list_arrey:\n",
    "            flatten_re.extend(flatten_list(row))\n",
    "        return flatten_re\n",
    "    else:\n",
    "        return [list_arrey]\n",
    "\n",
    "\n",
    "flatten_li = [1, [2, [3, 4], 5]]\n",
    "\n",
    "display(flatten_list(flatten_li))\n",
    "\n",
    "def flatten(flatten_list):\n",
    "    result = []\n",
    "    for row in flatten_list:\n",
    "        if type(row) is list:\n",
    "            for another in row:\n",
    "                if type(another) is list:\n",
    "                    for i in another:\n",
    "                        result.append(i)\n",
    "                else:\n",
    "                    result.append(another)\n",
    "        else:\n",
    "            result.append(row)\n",
    "    return result\n",
    "\n",
    "flatten(flatten_li)\n"
   ]
  },
  {
   "cell_type": "markdown",
   "metadata": {},
   "source": [
    "##### 11. Write a function `reverse_string_recursive` that reverses a given string using recursion.\n",
    "     Example: reverse_string_recursive(\"hello\") -> \"olleh\""
   ]
  },
  {
   "cell_type": "code",
   "execution_count": null,
   "metadata": {},
   "outputs": [],
   "source": [
    "def reverse_string_recursive(words):\n",
    "    new_words = words.split()\n",
    "    words_re = []\n",
    "    for row in new_words:\n",
    "        words_re.append(row[::-1])\n",
    "    return \" \".join(words_re)\n",
    "\n",
    "string = \"I wonder how this text looks like backwards\"\n",
    "\n",
    "reverse_string_recursive(string)"
   ]
  },
  {
   "cell_type": "markdown",
   "metadata": {},
   "source": [
    "##### 12. Define a higher-order function `apply_twice` that takes another function `f` as input and applies it twice to a given argument.\n",
    "     Example: apply_twice(lambda x: x * 2, 5) -> 20"
   ]
  },
  {
   "cell_type": "code",
   "execution_count": null,
   "metadata": {},
   "outputs": [],
   "source": [
    "def apply_twice(x):\n",
    "    y = 2*(x*2)\n",
    "    return y\n",
    "\n",
    "print(apply_twice(4))"
   ]
  }
 ],
 "metadata": {
  "kernelspec": {
   "display_name": "Python 3",
   "language": "python",
   "name": "python3"
  },
  "language_info": {
   "codemirror_mode": {
    "name": "ipython",
    "version": 3
   },
   "file_extension": ".py",
   "mimetype": "text/x-python",
   "name": "python",
   "nbconvert_exporter": "python",
   "pygments_lexer": "ipython3",
   "version": "3.13.0"
  }
 },
 "nbformat": 4,
 "nbformat_minor": 2
}

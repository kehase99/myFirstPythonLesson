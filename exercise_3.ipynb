{
 "cells": [
  {
   "cell_type": "markdown",
   "metadata": {},
   "source": [
    "##### Exercise 3: Advanced Python Challenges  \n",
    "\n",
    "1. Define a function `calculate_statistics` that takes a list of numbers and returns a dictionary containing:  \n",
    "   a. The mean of the numbers.  \n",
    "   b. The median of the numbers.  \n",
    "   c. The mode of the numbers.  \n",
    "   Use the `statistics` module for these calculations."
   ]
  },
  {
   "cell_type": "code",
   "execution_count": null,
   "metadata": {},
   "outputs": [],
   "source": [
    "import statistics\n",
    "def calculate_statistics(num):\n",
    "    # a)\n",
    "    mean_num = statistics.mean(num)\n",
    "    # b)\n",
    "    median_num = statistics.median(num)\n",
    "    # c)\n",
    "    mode_num = statistics.mode(num)\n",
    "    #return mode_num\n",
    "\n",
    "    statistic_dict = {\n",
    "        \"mean\": mean_num,\n",
    "        \"median\": median_num,\n",
    "        \"mode\": mode_num\n",
    "    }\n",
    "    return statistic_dict\n",
    "\n",
    "list_of_numbers = [10, 20, 30, 30, 35, 40, 50, 60]\n",
    "\n",
    "print(calculate_statistics(list_of_numbers))\n"
   ]
  },
  {
   "cell_type": "markdown",
   "metadata": {},
   "source": [
    "##### 2. Create a class `Rectangle` that has attributes for `width` and `height`.  \n",
    "    a. Define a method to calculate the area of the rectangle.  \n",
    "    b. Define a method to calculate the perimeter of the rectangle.  \n",
    "    c. Instantiate two rectangles and compare their areas.\n"
   ]
  },
  {
   "cell_type": "code",
   "execution_count": null,
   "metadata": {},
   "outputs": [],
   "source": [
    "class Rectangle:\n",
    "    def __init__(self, width, height):\n",
    "        self.width = width\n",
    "        self.height = height\n",
    "    # a)\n",
    "    def areaRectangle(self):\n",
    "        area_rect = self.width * self.height\n",
    "        return area_rect\n",
    "    # b)\n",
    "    def perimeterRectangle(self):\n",
    "        perimeter_rect = 2*self.width + 2*self.height\n",
    "        return perimeter_rect\n",
    "\n",
    "R1 = Rectangle(25, 10)\n",
    "R2 = Rectangle(15, 5)\n",
    "a_R1 = R1.areaRectangle()\n",
    "\n",
    "print(f\"area R1: {a_R1}\")\n",
    "\n",
    "p_R1 = R1.perimeterRectangle()\n",
    "\n",
    "print(f\"Perimeter R1: {p_R1}\")\n",
    "\n",
    "a_R2 = R2.areaRectangle()\n",
    "\n",
    "print(f\"area R2: {a_R2}\")\n",
    "\n",
    "p_R2 = R2.perimeterRectangle()  \n",
    "\n",
    "print(f\"Perimeter R2: {p_R2}\")\n",
    "\n",
    "# c)\n",
    "if a_R1 > a_R2:\n",
    "    print(f\"Area of R1 is greater than R2 {a_R1} > {a_R2}\")\n",
    "else:\n",
    "    print(f\"Area of R2 is greater than R1 {a_R2} > {a_R1}\")"
   ]
  },
  {
   "cell_type": "markdown",
   "metadata": {},
   "source": [
    "##### 3. Define a function `is_prime` that takes an integer and returns `True` if the number is prime, and `False` otherwise.\n",
    "  a. Use this function to filter a list of numbers (from 1 to 100) and return only the prime numbers."
   ]
  },
  {
   "cell_type": "code",
   "execution_count": null,
   "metadata": {},
   "outputs": [],
   "source": [
    "def is_prime(n):\n",
    "    if n <= 1:\n",
    "        return False\n",
    "\n",
    "    # range(start, stop, next) \n",
    "    #  start 2 , 3\n",
    "    # stop = int(n **0.5)+1\n",
    "    for i in range(2, int(n **0.5)+1):\n",
    "        if n % i == 0:\n",
    "            return False # break; breaks the loop\n",
    "    return True\n",
    "\"\"\"\n",
    "6\n",
    "\n",
    "\"\"\"\n",
    "\n",
    "    # count = 0\n",
    "    # result = []\n",
    "    # for x in prime_num:\n",
    "    #     for i in range(1, x + 1, 1):\n",
    "    #         if x % i == 0:\n",
    "    #             count = count + 1\n",
    "    #         if count == 2:\n",
    "    #             result.append(x)\n",
    "    # return result\n",
    "\n",
    "\n",
    "        #if x % 2 :\n",
    "           # return\n",
    "    \n",
    "\n",
    "\n",
    "list_of_1_to_100 = []\n",
    "for i in range(1, 101):\n",
    "    list_of_1_to_100.append(i)\n",
    "\n",
    "#print(list_of_1_to_100)\n",
    "print(is_prime(9))"
   ]
  },
  {
   "cell_type": "markdown",
   "metadata": {},
   "source": [
    "##### 4. Define a function `merge_dictionaries` that accepts two dictionaries and merges them.\n",
    "   a. If both dictionaries have the same key, sum the values of that key.  \n",
    "   b. Otherwise, combine the keys and values into the resulting dictionary."
   ]
  },
  {
   "cell_type": "code",
   "execution_count": null,
   "metadata": {},
   "outputs": [],
   "source": [
    "\n",
    "def merge_dictionaries(dict1, dict2):\n",
    "    merged = dict1.copy()\n",
    "\n",
    "    for key in dict2:\n",
    "        if key in merged:\n",
    "            merged.update({key:merged[key] + dict2[key]})\n",
    "\n",
    "        else:\n",
    "            merged.update({key: dict2[key]})\n",
    "    \n",
    "    return merged\n",
    "\n",
    "\n",
    "first_dict_ch4 = {\n",
    "            \"first\": 10,\n",
    "            \"second\": 20,\n",
    "            \"third\": 30,\n",
    "            \"year\": 2024\n",
    "}\n",
    "second_dict_ch4 = {\n",
    "        \"first\": 10,\n",
    "        \"second\": 20,\n",
    "        \"city\": \"Berlin\",\n",
    "        \"country\": \"Germany\"\n",
    "}\n",
    "\n",
    "print(merge_dictionaries(first_dict_ch4, second_dict_ch4))\n"
   ]
  },
  {
   "cell_type": "markdown",
   "metadata": {},
   "source": [
    "##### 5. Create a generator function `fibonacci` that yields an infinite sequence of Fibonacci numbers.  \n",
    "    a. Use a `for` loop to print the first 20 Fibonacci numbers."
   ]
  },
  {
   "cell_type": "code",
   "execution_count": null,
   "metadata": {},
   "outputs": [],
   "source": [
    "def fibonacci(n):\n",
    "    \n",
    "    if n in {0, 1}:\n",
    "        return n\n",
    "    return fibonacci(n-1) + fibonacci(n-2)\n",
    "    \n",
    "\n",
    "[fibonacci(n) for n in range(20)]"
   ]
  },
  {
   "cell_type": "code",
   "execution_count": null,
   "metadata": {},
   "outputs": [],
   "source": [
    "n1, n2 = 0, 1\n",
    "count = 0\n",
    "nterm = 10\n",
    "\n",
    "while count < nterm:\n",
    "    print(n1) \n",
    "    nth = n1 + n2 \n",
    "    n1 = n2 \n",
    "    n2 = nth \n",
    "    count += 1 \n"
   ]
  },
  {
   "cell_type": "markdown",
   "metadata": {},
   "source": [
    "##### 6. Define a function `matrix_transpose` that takes a 2D list (matrix) and returns its transpose.\n",
    "    a. The function should work for any matrix size."
   ]
  },
  {
   "cell_type": "code",
   "execution_count": null,
   "metadata": {},
   "outputs": [],
   "source": [
    "def matrix_transpose(tr_m):\n",
    "    mtr_result = []\n",
    "    tr_matrix = zip(*tr_m)\n",
    "    for row in tr_matrix:\n",
    "        mtr_result.append(row)\n",
    "    return mtr_result\n",
    "    \n",
    "\n",
    "\n",
    "\n",
    "\n",
    "matrix = [[1, 2, 3], [4, 5, 6], [7, 8, 9]]\n",
    "\n",
    "display(matrix_transpose(matrix))\n"
   ]
  },
  {
   "cell_type": "markdown",
   "metadata": {},
   "source": [
    "##### 7. Write a function `analyze_text` that takes a string and returns:\n",
    "    a. The number of words in the string.\n",
    "    b. The number of unique words.\n",
    "    c. A dictionary of word frequencies.\n",
    "    d. The longest word in the string."
   ]
  },
  {
   "cell_type": "code",
   "execution_count": 1,
   "metadata": {},
   "outputs": [
    {
     "name": "stdout",
     "output_type": "stream",
     "text": [
      "number Of words: 10  \n",
      " number Of unique words: 8\n",
      " Counter({'a': 2, 'developer': 2, 'I': 1, 'am': 1, 'student': 1, 'of': 1, 'Full': 1, 'stack': 1})\n",
      " developer\n"
     ]
    }
   ],
   "source": [
    "from collections import Counter \n",
    "\n",
    "def analyze_text(text_ana):\n",
    "    list_of_word = text_ana.split()\n",
    "    num_words = len(list_of_word)\n",
    "\n",
    "    num_unique_words = len(set(list_of_word))\n",
    "    count_words = Counter(list_of_word)\n",
    "\n",
    "    max_len = -1\n",
    "\n",
    "    for element in list_of_word:\n",
    "        if len(element) > max_len:\n",
    "            max_len = len(element)\n",
    "            max_re = element\n",
    "   \n",
    "    return f\"number Of words: {num_words}  \\n number Of unique words: {num_unique_words}\\n {count_words}\\n {max_re}\"\n",
    "\n",
    "my_string = \"I am a developer student of a Full stack developer\"\n",
    "\n",
    "print(analyze_text(my_string))\n",
    "\n",
    "#input list\n",
    "#list1 = ['apple', 'banana', 'atermelon', 'orange'] \n",
    "#res = max(list1, key=len) \n",
    "#print(\"Longest String is  : \", res)\n"
   ]
  },
  {
   "cell_type": "markdown",
   "metadata": {},
   "source": [
    "##### 8. Define a function `group_by_length` that takes a list of strings and returns a dictionary where:\n",
    "    a. The keys are string lengths.\n",
    "    b. The values are lists of strings with that length."
   ]
  },
  {
   "cell_type": "code",
   "execution_count": null,
   "metadata": {},
   "outputs": [
    {
     "data": {
      "text/plain": [
       "({'8': ['b',\n",
       "   ' ',\n",
       "   'a',\n",
       "   ' ',\n",
       "   'n',\n",
       "   ' ',\n",
       "   'a',\n",
       "   ' ',\n",
       "   'n',\n",
       "   ' ',\n",
       "   'a',\n",
       "   ' ',\n",
       "   '0',\n",
       "   ' ',\n",
       "   '1'],\n",
       "  '7': ['a', ' ', 'p', ' ', 'p', ' ', 'l', ' ', 'e', ' ', '0', ' ', '1'],\n",
       "  '4': ['k', ' ', 'e', ' ', 'h', ' ', 'a'],\n",
       "  '6': ['o', ' ', 'r', ' ', 'a', ' ', 'n', ' ', 'g', ' ', 'e'],\n",
       "  '5': ['l', ' ', 'e', ' ', 'm', ' ', 'o', ' ', 'n']},\n",
       " [])"
      ]
     },
     "metadata": {},
     "output_type": "display_data"
    },
    {
     "name": "stdout",
     "output_type": "stream",
     "text": [
      "----------------------------------------------------------------------------\n"
     ]
    },
    {
     "data": {
      "text/plain": [
       "['i', 'am', 'strong', 'i', 'and', 'you', 'are', 'strong', 'to']"
      ]
     },
     "metadata": {},
     "output_type": "display_data"
    },
    {
     "data": {
      "text/plain": [
       "[1, 2, 6, 1, 3, 3, 3, 6, 2]"
      ]
     },
     "metadata": {},
     "output_type": "display_data"
    },
    {
     "data": {
      "text/plain": [
       "{1, 2, 3, 6}"
      ]
     },
     "metadata": {},
     "output_type": "display_data"
    },
    {
     "data": {
      "text/plain": [
       "{1: 'i', 2: 'to', 6: 'strong', 3: 'are'}"
      ]
     },
     "metadata": {},
     "output_type": "display_data"
    },
    {
     "data": {
      "text/plain": [
       "{'1': ['i', 'i'],\n",
       " '2': ['am', 'to'],\n",
       " '3': ['and', 'you', 'are'],\n",
       " '6': ['strong', 'strong']}"
      ]
     },
     "metadata": {},
     "output_type": "display_data"
    }
   ],
   "source": [
    "def group_by_length(list_str):\n",
    "    dict_str = {}\n",
    "    len_of_words = [len(words) for words in list_str]\n",
    "    #return len_of_words\n",
    "    unique_len = set(len_of_words)\n",
    "    list_row = []\n",
    "    for row in list_str:\n",
    "        for len_word in unique_len:\n",
    "            if len(row) == len_word:\n",
    "                dict_str.update({str((len_word)): list(\" \".join(row))})\n",
    "    return dict_str, list_row\n",
    "\n",
    "string_list = [\"banana01\", \"apple01\", \"kiwi\", \"orange\", \"lemon\", \"keha\"]\n",
    "\n",
    "display(group_by_length(string_list))\n",
    "\n",
    "print(\"----------------------------------------------------------------------------\")\n",
    "words = [\"i\", \"am\", \"strong\", \"i\", \"and\", \"you\", \"are\", \"strong\", \"to\"]\n",
    "length_of_words = [ len(word) for word in words]\n",
    "words_len = set(length_of_words) # we can use it as temp var\n",
    "word_len_map =  { len(word): word for word in words} # we dont actually need that\n",
    "word_len_groups  = {  str(word_len): [ word for word in words if len(word) == word_len] for word_len in words_len}\n",
    " \n",
    " \n",
    "\n",
    "# word_len_dict = {\"1\":[\"i\", \"i\"], \"2\":[\"am\", \"to\"], \"3\":[\"and\", \"you\", \"are\",], \"6\":[\"strong\", \"strong\"]}\n",
    "display(words)\n",
    "display(length_of_words)\n",
    "display(words_len)\n",
    "display(word_len_map)\n",
    "display(word_len_groups)\n",
    "\n",
    "word_len_groups  = {  str(word_len): [ word for word in words if len(word) == word_len] for word_len in set(length_of_words) }\n",
    "# refactor"
   ]
  },
  {
   "cell_type": "markdown",
   "metadata": {},
   "source": [
    "##### 9. Define a recursive function `factorial` that calculates the factorial of a given number.\n",
    "    a. Use it to calculate the factorial of numbers from 1 to 10."
   ]
  },
  {
   "cell_type": "code",
   "execution_count": 13,
   "metadata": {},
   "outputs": [
    {
     "name": "stdout",
     "output_type": "stream",
     "text": [
      "1\n",
      "2\n",
      "6\n",
      "24\n",
      "120\n",
      "720\n",
      "5040\n",
      "40320\n",
      "362880\n"
     ]
    }
   ],
   "source": [
    "\n",
    "def factorial():\n",
    "    fact = 1\n",
    "    for i in range(1, 10):\n",
    "        fact *= i \n",
    "        print(fact)\n",
    "\n",
    "factorial()"
   ]
  },
  {
   "cell_type": "markdown",
   "metadata": {},
   "source": [
    "##### 10. Define a function `flatten_list` that takes a nested list and returns a flat list.\n",
    "     a. Use recursion to handle arbitrarily nested lists.\n",
    "     Example: flatten_list([1, [2, [3, 4], 5]]) -> [1, 2, 3, 4, 5]"
   ]
  },
  {
   "cell_type": "code",
   "execution_count": null,
   "metadata": {},
   "outputs": [],
   "source": [
    "def flatten_list(list_arrey):\n",
    "    flatten_re = []\n",
    "    if isinstance(list_arrey, list):\n",
    "        for row in list_arrey:\n",
    "            flatten_re.extend(flatten_list(row))\n",
    "        return flatten_re\n",
    "    else:\n",
    "        return [list_arrey]\n",
    "\n",
    "\n",
    "flatten_li = [1, [2, [3, 4], 5]]\n",
    "\n",
    "display(flatten_list(flatten_li))\n",
    "\n",
    "def flatten(flatten_list):\n",
    "    result = []\n",
    "    for row in flatten_list:\n",
    "        if type(row) is list:\n",
    "            for another in row:\n",
    "                if type(another) is list:\n",
    "                    for i in another:\n",
    "                        result.append(i)\n",
    "                else:\n",
    "                    result.append(another)\n",
    "        else:\n",
    "            result.append(row)\n",
    "    return result\n",
    "\n",
    "flatten(flatten_li)\n"
   ]
  },
  {
   "cell_type": "markdown",
   "metadata": {},
   "source": [
    "##### 11. Write a function `reverse_string_recursive` that reverses a given string using recursion.\n",
    "     Example: reverse_string_recursive(\"hello\") -> \"olleh\""
   ]
  },
  {
   "cell_type": "code",
   "execution_count": 10,
   "metadata": {},
   "outputs": [
    {
     "data": {
      "text/plain": [
       "'I rednow woh siht txet skool ekil sdrawkcab'"
      ]
     },
     "execution_count": 10,
     "metadata": {},
     "output_type": "execute_result"
    }
   ],
   "source": [
    "def reverse_string_recursive(words):\n",
    "    new_words = words.split()\n",
    "    words_re = []\n",
    "    for row in new_words:\n",
    "        words_re.append(row[::-1])\n",
    "    return \" \".join(words_re)\n",
    "\n",
    "string = \"I wonder how this text looks like backwards\"\n",
    "\n",
    "reverse_string_recursive(string)"
   ]
  },
  {
   "cell_type": "markdown",
   "metadata": {},
   "source": [
    "##### 12. Define a higher-order function `apply_twice` that takes another function `f` as input and applies it twice to a given argument.\n",
    "     Example: apply_twice(lambda x: x * 2, 5) -> 20"
   ]
  },
  {
   "cell_type": "code",
   "execution_count": null,
   "metadata": {},
   "outputs": [
    {
     "data": {
      "text/plain": [
       "24"
      ]
     },
     "metadata": {},
     "output_type": "display_data"
    }
   ],
   "source": [
    "from typing import Callable\n",
    "\n",
    "\n",
    "def apply_twice(func: Callable, x: int | float) -> int |float:\n",
    "    # call_one  = func(x)  # 2 * 5 = 10,\n",
    "    # call_two = func(call_one) #  10 * 2 = 20 \n",
    "    return func(func(x)) # 2 * 5 = 10, 10 * 2 = 20 \n",
    "\n",
    "apply_twice(func=lambda x: x*2, x=5)"
   ]
  },
  {
   "cell_type": "markdown",
   "metadata": {},
   "source": [
    "\n",
    "##### 13. Define a function `read_file_lines` that reads the contents of a file line by line and returns a list of the lines.\n",
    "     a. Handle file not found errors gracefully by printing a message."
   ]
  },
  {
   "cell_type": "code",
   "execution_count": null,
   "metadata": {},
   "outputs": [],
   "source": [
    "def read_file_lines(some_file: str):\n",
    "        try:\n",
    "            with open(some_file, \"r\") as file:\n",
    "                  return file.readlines()\n",
    "                \n",
    "        except FileNotFoundError as e:\n",
    "                  print(f\"Oops!  file not found. {e} Try again...\")\n",
    "\n",
    "file = \"dataline.txt\"\n",
    "\n",
    "display(read_file_lines(some_file = file))"
   ]
  },
  {
   "cell_type": "code",
   "execution_count": null,
   "metadata": {},
   "outputs": [],
   "source": [
    "def read_file_lines(readfile):\n",
    "    if readfile:\n",
    "        return readfile.readlines()\n",
    "    else:\n",
    "        raise ValueError(f\"file not found\")\n",
    "\n",
    "file = open(\"dataline.txt\", \"r\")\n",
    "\n",
    "display(read_file_lines(readfile = file))\n",
    "\n",
    "\n"
   ]
  },
  {
   "cell_type": "code",
   "execution_count": 24,
   "metadata": {},
   "outputs": [
    {
     "name": "stdout",
     "output_type": "stream",
     "text": [
      "['I checked the memory profile of different ways given', 'in the answers using the procedure mentioned here.', 'The memory usage is far better when each line is read', 'from the file and processed, as suggested by @DevShark here.', 'Holding all lines in a collection object is not a good idea', 'if memory is a constraint or the file is large.', 'The execution time is similar in both the approaches.']\n"
     ]
    }
   ],
   "source": [
    "def read_file_lines():\n",
    "    with open(\"dataline.txt\", \"r\") as file_data:\n",
    "        result = []\n",
    "        if file_data:\n",
    "            for line in file_data:\n",
    "                result.append(line.rstrip())\n",
    "        else:\n",
    "            raise ValueError(f\"file not found\")\n",
    "    return result\n",
    "\n",
    "print(read_file_lines())\n",
    "\n"
   ]
  },
  {
   "cell_type": "markdown",
   "metadata": {},
   "source": [
    "##### 14. Define a function `write_even_numbers` that writes only the even numbers from a list into a text file.\n",
    "     a. Ensure that the file is created and written to safely."
   ]
  },
  {
   "cell_type": "code",
   "execution_count": null,
   "metadata": {},
   "outputs": [],
   "source": [
    "def write_even_numbers(num: list[int]) -> str:\n",
    "    result_num_to_string = ''\n",
    "    #result_num = []\n",
    "    for number in num:\n",
    "        if number % 2 == 0:\n",
    "            result_num_to_string += ' \\n'+str(number)\n",
    "    #return result_num\n",
    "    #result_num_to_string = ''\n",
    "    #for res_num in result_num:\n",
    "        #result_num_to_string += ' '+str(res_num)\n",
    "\n",
    "    with open('even-number.txt', 'w') as file: \n",
    "        file.write(result_num_to_string)\n",
    "    #return result_num_to_string\n",
    "\n",
    "#with open('even-number.txt', 'w') as file: file.write(str(number))\n",
    "list_num = [1, 2, 3, 4, 5, 6, 7, 8, 9, 10, 11, 12]\n",
    "write_even_numbers(list_num)\n",
    "\n",
    "with open('even-number.txt', 'r') as file:\n",
    "    content = file.read()  # Read the content of the file\n",
    "    print(content) "
   ]
  },
  {
   "cell_type": "code",
   "execution_count": 7,
   "metadata": {},
   "outputs": [],
   "source": [
    "def write_even_numbers(some_filename: str, some_numbers: list) -> None:\n",
    "    \n",
    "    with open(some_filename, \"w\") as file:\n",
    "        file.writelines(f\"{number}\\n\" for number in some_numbers if number % 2 == 0)\n",
    "    \n",
    "filename = \"list_of_numbers.txt\"\n",
    "numbers = [1, 2, 3, 4, 5, 6, 7, 8, 9, 10, 11, 12]\n",
    "write_even_numbers(some_filename = filename, some_numbers = numbers)"
   ]
  },
  {
   "cell_type": "code",
   "execution_count": 8,
   "metadata": {},
   "outputs": [],
   "source": [
    "def write_even_numbers(some_filename: str, some_numbers: list) -> None:\n",
    "    # even_numbers = [ number for number in some_numbers  if number % 2 ==0]\n",
    "    even_numbers = []\n",
    "    for number in some_numbers:\n",
    "        if number % 2 ==0:\n",
    "            even_numbers.append(number)\n",
    "    with open(some_filename, 'w') as file:\n",
    "        # file.writelines(f\"{number}\\n\" for number in some_numbers if number%2 == 0)\n",
    "        for number in even_numbers:\n",
    "            file.write(f\"{number}\\n\")\n",
    "   \n",
    "filename = \"list_of_numbers1.txt\"\n",
    "numbers = [1, 2, 3, 4, 5, 6, 7, 8, 9, 10]\n",
    "write_even_numbers(some_filename=filename, some_numbers=numbers)"
   ]
  },
  {
   "cell_type": "markdown",
   "metadata": {},
   "source": [
    "##### 15. Define a function `memoized_fibonacci` that returns the nth Fibonacci number, using memoization to optimize the computation.\n",
    "     a. Ensure the function computes the nth Fibonacci efficiently by storing already computed values."
   ]
  },
  {
   "cell_type": "code",
   "execution_count": null,
   "metadata": {},
   "outputs": [],
   "source": [
    "def memoized_fibonacci(n: int | float, some_memo: dict):\n",
    "    if n in some_memo:\n",
    "        return some_memo[n]\n",
    "    if n <= 1:\n",
    "        return n\n",
    "    some_memo[n] = memoized_fibonacci(n-1, some_memo) + memoized_fibonacci(n-2, some_memo)\n",
    "    return some_memo[n]\n",
    "\n",
    "number = 10\n",
    "memo = {}\n",
    "\n",
    "display(memoized_fibonacci(n = number, some_memo=memo))\n",
    "display(memo)"
   ]
  },
  {
   "cell_type": "code",
   "execution_count": null,
   "metadata": {},
   "outputs": [],
   "source": [
    "def f(n: int | float) -> int | float: \n",
    "    if n <= 1:\n",
    "        return n \n",
    "    return f(n-1) + f(n -2)\n",
    "     \n",
    "\n",
    "number = 3 \n",
    "f(n = number)"
   ]
  },
  {
   "cell_type": "markdown",
   "metadata": {},
   "source": [
    "##### 16. Create a decorator `time_execution` that measures and prints the execution time of any function it decorates.\n",
    "     a. Use it on the `fibonacci` function to measure how long it takes to compute the 30th Fibonacci number."
   ]
  },
  {
   "cell_type": "code",
   "execution_count": null,
   "metadata": {},
   "outputs": [],
   "source": [
    "import time\n",
    "from typing import Callable\n",
    "\n",
    "def time_execution(func: Callable) -> Callable:\n",
    "    def wrapper(*args, **kwargs) -> None:\n",
    "        start_time = time.time()\n",
    "        result = func(*args, **kwargs)\n",
    "        end_time = time.time()\n",
    "        display(f\"Execution time: {end_time - start_time}\")\n",
    "\n",
    "        return result\n",
    "    return wrapper\n",
    "\n",
    "@time_execution\n",
    "def  fibonacci(n: int | float ) -> int | float:\n",
    "    if n <= 1:\n",
    "        return n\n",
    "    return fibonacci(n-1) + fibonacci(n-2)\n",
    "\n",
    "@time_execution\n",
    "def write_even_numbers(some_filename: str, some_numbers: list) -> None:\n",
    "    \n",
    "    with open(some_filename, \"w\") as file:\n",
    "        file.writelines(f\"{number}\\n\" for number in some_numbers if number % 2 == 0)\n",
    "    \n",
    "filename = \"list_of_numbers.txt\"\n",
    "numbers = [1, 2, 3, 4, 5, 6, 7, 8, 9, 10, 11, 12]\n",
    "write_even_numbers(some_filename = filename, some_numbers = numbers)"
   ]
  },
  {
   "cell_type": "markdown",
   "metadata": {},
   "source": [
    "##### 17. Define a function `unique_permutations` that takes a list and returns all unique permutations of the elements in the list.\n",
    "     a. Use the `itertools` module to simplify the task."
   ]
  },
  {
   "cell_type": "code",
   "execution_count": 10,
   "metadata": {},
   "outputs": [
    {
     "data": {
      "text/plain": [
       "[(1, 2, 1), (2, 1, 1), (1, 1, 2)]"
      ]
     },
     "execution_count": 10,
     "metadata": {},
     "output_type": "execute_result"
    }
   ],
   "source": [
    "\n",
    "import itertools\n",
    "\n",
    "\n",
    "def unique_permutations(elements: list[any])-> list[any]:\n",
    "    return list(set(itertools.permutations(elements)))\n",
    "\n",
    "example_list = [1, 1, 2]\n",
    "unique_permutations(example_list)"
   ]
  },
  {
   "cell_type": "markdown",
   "metadata": {},
   "source": [
    "##### 18. Define a function `safe_division` that performs division but catches division by zero errors.\n",
    "     a. If an error occurs, return \"Undefined\" instead of raising an exception."
   ]
  },
  {
   "cell_type": "code",
   "execution_count": null,
   "metadata": {},
   "outputs": [],
   "source": [
    "def safe_division(a: float | int, b: float | int) -> float | int:\n",
    "    try:\n",
    "        return a/b\n",
    "    except ZeroDivisionError as e:\n",
    "        display(f\"Division by zero error {e}\")\n",
    "\n",
    "safe_division(a=2, b=0)"
   ]
  },
  {
   "cell_type": "markdown",
   "metadata": {},
   "source": [
    "##### 19. Create a class `BankAccount` with attributes for `balance` and methods `deposit` and `withdraw`.\n",
    "     a. Ensure `withdraw` raises an error if there are insufficient funds.  \n",
    "     b. Create a method `transfer` to transfer money between two bank accounts."
   ]
  },
  {
   "cell_type": "code",
   "execution_count": null,
   "metadata": {},
   "outputs": [],
   "source": [
    "class BankAccount:\n",
    "    def __init__(self, balance:float = 0):\n",
    "        self.balance = balance\n",
    "\n",
    "    def deposit(self, amount: float) -> None:\n",
    "        self.balance += amount\n",
    "    def withdraw(self, amount: float) -> None:\n",
    "        if amount > self.balance:\n",
    "            raise ValueError(\"Insufficient funds\")\n",
    "        self.balance -= amount\n",
    "    \n",
    "    def transfer(self, amount: float, other_account: \"BankAccount\"):\n",
    "        self.withdraw(amount)\n",
    "        other_account.deposit(amount)\n",
    "        \n",
    "\n",
    "my_bank_account = BankAccount(balance=1000)\n",
    "someone_bank_account = BankAccount(balance=100)\n",
    "\n",
    "my_bank_account.deposit(amount=300)\n",
    "\n",
    "display(f\"my balnce {my_bank_account.balance}\")\n",
    "display(f\"someone's balance {someone_bank_account.balance}\")\n",
    "\n",
    "my_bank_account.transfer(amount=300, other_account=someone_bank_account)\n",
    "display(f\"my balance {my_bank_account.balance}\")\n",
    "display(f\"someone's balance {someone_bank_account.balance}\")\n"
   ]
  },
  {
   "cell_type": "markdown",
   "metadata": {},
   "source": [
    "##### 20. **New Challenge: Complex Data Manipulation**\n",
    "     Define a function `merge_sort` that implements the merge sort algorithm recursively.\n",
    "     a. The function should take a list of numbers and return a sorted list.\n",
    "     b. Ensure the function is efficient and works on lists of large size.\n",
    "     c. Use this function to sort a list of 1000 random numbers."
   ]
  },
  {
   "cell_type": "code",
   "execution_count": null,
   "metadata": {},
   "outputs": [],
   "source": [
    "def merge_sort(arr):\n",
    "    if len(arr) <= 1:\n",
    "        return arr\n",
    "    mid = len(arr) // 2\n",
    "    leftHalf = arr[:mid]\n",
    "    rightHalf = arr[mid:]\n",
    "    \n",
    "    sortedLeft = merge_sort(leftHalf)\n",
    "    \n",
    "    print(f\"leftHalf: {leftHalf}\")\n",
    "    sortedRight = merge_sort(rightHalf)\n",
    "    print(f\"rightHalf: {rightHalf}\")\n",
    "    #return len(sortedLeft), len(sortedRight)\n",
    "   \n",
    "unsortedArr = [3, 7, 6, -10, 15, 23.5, 55, -13]\n",
    "merge_sort(unsortedArr)"
   ]
  }
 ],
 "metadata": {
  "kernelspec": {
   "display_name": "Python 3",
   "language": "python",
   "name": "python3"
  },
  "language_info": {
   "codemirror_mode": {
    "name": "ipython",
    "version": 3
   },
   "file_extension": ".py",
   "mimetype": "text/x-python",
   "name": "python",
   "nbconvert_exporter": "python",
   "pygments_lexer": "ipython3",
   "version": "3.13.0"
  }
 },
 "nbformat": 4,
 "nbformat_minor": 2
}

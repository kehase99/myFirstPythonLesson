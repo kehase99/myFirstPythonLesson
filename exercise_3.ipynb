{
 "cells": [
  {
   "cell_type": "markdown",
   "metadata": {},
   "source": [
    "### Exercise 3: Advanced Python Challenges  \n",
    "\n",
    "1. Define a function `calculate_statistics` that takes a list of numbers and returns a dictionary containing:  \n",
    "   a. The mean of the numbers.  \n",
    "   b. The median of the numbers.  \n",
    "   c. The mode of the numbers.  \n",
    "   Use the `statistics` module for these calculations."
   ]
  },
  {
   "cell_type": "code",
   "execution_count": 3,
   "metadata": {},
   "outputs": [
    {
     "name": "stdout",
     "output_type": "stream",
     "text": [
      "{'mean': 34.375, 'median': 32.5, 'mode': 30}\n"
     ]
    }
   ],
   "source": [
    "import statistics\n",
    "def calculate_statistics(num):\n",
    "    # a)\n",
    "    mean_num = statistics.mean(num)\n",
    "    # b)\n",
    "    median_num = statistics.median(num)\n",
    "    # c)\n",
    "    mode_num = statistics.mode(num)\n",
    "    #return mode_num\n",
    "\n",
    "    statistic_dict = {\n",
    "        \"mean\": mean_num,\n",
    "        \"median\": median_num,\n",
    "        \"mode\": mode_num\n",
    "    }\n",
    "    return statistic_dict\n",
    "\n",
    "list_of_numbers = [10, 20, 30, 30, 35, 40, 50, 60]\n",
    "\n",
    "print(calculate_statistics(list_of_numbers))\n"
   ]
  },
  {
   "cell_type": "markdown",
   "metadata": {},
   "source": [
    "### 2. Create a class `Rectangle` that has attributes for `width` and `height`.  \n",
    "    a. Define a method to calculate the area of the rectangle.  \n",
    "    b. Define a method to calculate the perimeter of the rectangle.  \n",
    "    c. Instantiate two rectangles and compare their areas.\n"
   ]
  },
  {
   "cell_type": "code",
   "execution_count": 4,
   "metadata": {},
   "outputs": [
    {
     "name": "stdout",
     "output_type": "stream",
     "text": [
      "area R1: 250\n",
      "Perimeter R1: 70\n",
      "area R2: 75\n",
      "Perimeter R2: 40\n",
      "Area of R1 is greater than R2 250 > 75\n"
     ]
    }
   ],
   "source": [
    "class Rectangle:\n",
    "    def __init__(self, width, height):\n",
    "        self.width = width\n",
    "        self.height = height\n",
    "    # a)\n",
    "    def areaRectangle(self):\n",
    "        area_rect = self.width * self.height\n",
    "        return area_rect\n",
    "    # b)\n",
    "    def perimeterRectangle(self):\n",
    "        perimeter_rect = 2*self.width + 2*self.height\n",
    "        return perimeter_rect\n",
    "\n",
    "R1 = Rectangle(25, 10)\n",
    "R2 = Rectangle(15, 5)\n",
    "a_R1 = R1.areaRectangle()\n",
    "\n",
    "print(f\"area R1: {a_R1}\")\n",
    "\n",
    "p_R1 = R1.perimeterRectangle()\n",
    "\n",
    "print(f\"Perimeter R1: {p_R1}\")\n",
    "\n",
    "a_R2 = R2.areaRectangle()\n",
    "\n",
    "print(f\"area R2: {a_R2}\")\n",
    "\n",
    "p_R2 = R2.perimeterRectangle()  \n",
    "\n",
    "print(f\"Perimeter R2: {p_R2}\")\n",
    "\n",
    "# c)\n",
    "if a_R1 > a_R2:\n",
    "    print(f\"Area of R1 is greater than R2 {a_R1} > {a_R2}\")\n",
    "else:\n",
    "    print(f\"Area of R2 is greater than R1 {a_R2} > {a_R1}\")"
   ]
  },
  {
   "cell_type": "markdown",
   "metadata": {},
   "source": [
    "### 3. Define a function `is_prime` that takes an integer and returns `True` if the number is prime, and `False` otherwise.\n",
    "  a. Use this function to filter a list of numbers (from 1 to 100) and return only the prime numbers."
   ]
  },
  {
   "cell_type": "code",
   "execution_count": null,
   "metadata": {},
   "outputs": [],
   "source": [
    "def is_prime(n):\n",
    "    if n <= 1:\n",
    "        return False\n",
    "\n",
    "    # range(start, stop, next) \n",
    "    #  start 2 , 3\n",
    "    # stop = int(n **0.5)+1\n",
    "    for i in range(2, int(n **0.5)+1):\n",
    "        if n % i == 0:\n",
    "            return False # break; breaks the loop\n",
    "    return True\n",
    "\"\"\"\n",
    "6\n",
    "\n",
    "\"\"\"\n",
    "\n",
    "    # count = 0\n",
    "    # result = []\n",
    "    # for x in prime_num:\n",
    "    #     for i in range(1, x + 1, 1):\n",
    "    #         if x % i == 0:\n",
    "    #             count = count + 1\n",
    "    #         if count == 2:\n",
    "    #             result.append(x)\n",
    "    # return result\n",
    "\n",
    "\n",
    "        #if x % 2 :\n",
    "           # return\n",
    "    \n",
    "\n",
    "\n",
    "list_of_1_to_100 = []\n",
    "for i in range(1, 101):\n",
    "    list_of_1_to_100.append(i)\n",
    "\n",
    "#print(list_of_1_to_100)\n",
    "print(is_prime(9))"
   ]
  },
  {
   "cell_type": "markdown",
   "metadata": {},
   "source": [
    "### 4. Define a function `merge_dictionaries` that accepts two dictionaries and merges them.\n",
    "   a. If both dictionaries have the same key, sum the values of that key.  \n",
    "   b. Otherwise, combine the keys and values into the resulting dictionary."
   ]
  },
  {
   "cell_type": "code",
   "execution_count": 11,
   "metadata": {},
   "outputs": [
    {
     "name": "stdout",
     "output_type": "stream",
     "text": [
      "{'first': 20, 'second': 40, 'third': 30, 'year': 2024, 'city': 'Berlin', 'country': 'Germany'}\n"
     ]
    }
   ],
   "source": [
    "\n",
    "def merge_dictionaries(dict1, dict2):\n",
    "    merged = dict1.copy()\n",
    "\n",
    "    for key in dict2:\n",
    "        if key in merged:\n",
    "            merged.update({key:merged[key] + dict2[key]})\n",
    "\n",
    "        elif key not in merged:\n",
    "            merged.update({key: dict2[key]})\n",
    "    return merged\n",
    "\n",
    "\n",
    "first_dict_ch4 = {\n",
    "            \"first\": 10,\n",
    "            \"second\": 20,\n",
    "            \"third\": 30,\n",
    "            \"year\": 2024\n",
    "}\n",
    "second_dict_ch4 = {\n",
    "        \"first\": 10,\n",
    "        \"second\": 20,\n",
    "        \"city\": \"Berlin\",\n",
    "        \"country\": \"Germany\"\n",
    "}\n",
    "\n",
    "print(merge_dictionaries(first_dict_ch4, second_dict_ch4))\n"
   ]
  },
  {
   "cell_type": "markdown",
   "metadata": {},
   "source": [
    "### 5. Create a generator function `fibonacci` that yields an infinite sequence of Fibonacci numbers.  \n",
    "    a. Use a `for` loop to print the first 20 Fibonacci numbers."
   ]
  },
  {
   "cell_type": "code",
   "execution_count": 11,
   "metadata": {},
   "outputs": [
    {
     "name": "stdout",
     "output_type": "stream",
     "text": [
      "['F0: 0', 'F1: 1', 'F2: 1', 'F3: 3', 'F4: 5', 'F5: 7', 'F6: 9', 'F7: 11', 'F8: 13', 'F9: 15', 'F10: 17', 'F11: 19', 'F12: 21', 'F13: 23', 'F14: 25', 'F15: 27', 'F16: 29', 'F17: 31', 'F18: 33', 'F19: 35', 'F20: 37']\n"
     ]
    }
   ],
   "source": [
    "def fibonacci(n):\n",
    "    fibonacci_result = []\n",
    "    for i in range(0, 21):\n",
    "        if n[i] == 0:\n",
    "            fibonacci_result.append(f\"F{n[i]}: {n[i]}\")\n",
    "        elif n[i] == 1:\n",
    "            fibonacci_result.append(f\"F{n[i]}: {n[i]}\")\n",
    "        elif n[i] > 1:\n",
    "            fibonacci_result.append(f\"F{n[i]}: {(n[i-2] + n[i-1])}\")\n",
    "        else:\n",
    "            return False\n",
    "    return fibonacci_result\n",
    "    \n",
    "\n",
    "\n",
    "\n",
    "\n",
    "\n",
    "list_of_fibonacci = []\n",
    "for i in range(0, 21):\n",
    "    list_of_fibonacci.append(i)\n",
    "\n",
    "print(fibonacci(list_of_fibonacci))\n",
    "print(list_of_fibonacci[3-2])"
   ]
  }
 ],
 "metadata": {
  "kernelspec": {
   "display_name": "Python 3",
   "language": "python",
   "name": "python3"
  },
  "language_info": {
   "codemirror_mode": {
    "name": "ipython",
    "version": 3
   },
   "file_extension": ".py",
   "mimetype": "text/x-python",
   "name": "python",
   "nbconvert_exporter": "python",
   "pygments_lexer": "ipython3",
   "version": "3.13.0"
  }
 },
 "nbformat": 4,
 "nbformat_minor": 2
}
